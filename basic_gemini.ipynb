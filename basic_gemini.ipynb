{
 "cells": [
  {
   "cell_type": "markdown",
   "id": "47208ec7",
   "metadata": {},
   "source": [
    "___\n",
    "## Using the PitchGPT tool"
   ]
  },
  {
   "cell_type": "code",
   "execution_count": 1,
   "id": "c6153941",
   "metadata": {},
   "outputs": [],
   "source": [
    "# Example usage:\n",
    "pitch = \"\"\"\n",
    "Company: EcoCharge Solutions\n",
    "Problem: Electric vehicle charging is unreliable, slow, and hard to find in urban areas.\n",
    "Solution: Smart urban charging pods that integrate with existing parking meters.\n",
    "Market: $5B addressable market in top 10 US cities.\n",
    "Traction: \n",
    "- 50 pods installed in Boston\n",
    "- $200K monthly recurring revenue\n",
    "- 98% uptime rate\n",
    "- Partnership with 2 major parking operators\n",
    "\n",
    "Ask: Raising $2M seed round\n",
    "- 60% for hardware production\n",
    "- 30% for city expansion\n",
    "- 10% for team growth\n",
    "\n",
    "Team:\n",
    "- CEO: Former Tesla charging infrastructure lead\n",
    "- CTO: MIT electrical engineering PhD\n",
    "- COO: Ex-SpotHero operations director\n",
    "\"\"\""
   ]
  },
  {
   "cell_type": "code",
   "execution_count": 2,
   "id": "d95e3bf8",
   "metadata": {},
   "outputs": [
    {
     "name": "stderr",
     "output_type": "stream",
     "text": [
      "/Users/biplopghimire/cmu/junior/f25/05318/PitchGPT/.venv/lib/python3.12/site-packages/tqdm/auto.py:21: TqdmWarning: IProgress not found. Please update jupyter and ipywidgets. See https://ipywidgets.readthedocs.io/en/stable/user_install.html\n",
      "  from .autonotebook import tqdm as notebook_tqdm\n"
     ]
    }
   ],
   "source": [
    "from pitchgpt import PitchGPT"
   ]
  },
  {
   "cell_type": "code",
   "execution_count": 3,
   "id": "35ae9cba",
   "metadata": {},
   "outputs": [
    {
     "name": "stderr",
     "output_type": "stream",
     "text": [
      "WARNING: All log messages before absl::InitializeLog() is called are written to STDERR\n",
      "E0000 00:00:1760736134.856512 3702762 alts_credentials.cc:93] ALTS creds ignored. Not running on GCP and untrusted ALTS is not enabled.\n"
     ]
    },
    {
     "name": "stdout",
     "output_type": "stream",
     "text": [
      "Here's an analysis of the EcoCharge Solutions pitch:\n",
      "\n",
      "### 1. Two Potential Risks\n",
      "\n",
      "*   **Regulatory & City Infrastructure Hurdles:** Integrating \"smart urban charging pods with existing parking meters\" presents significant regulatory, permitting, and logistical challenges that vary drastically by city. Beyond just getting permission to modify city infrastructure, there are questions around power grid capacity at parking meter locations, ownership of the meters, liability, and the negotiation of revenue-sharing agreements with often slow-moving municipal entities. The success in Boston may not easily translate or scale efficiently to other cities, each with its own bureaucracy and requirements, potentially leading to lengthy delays and high overhead per city expansion.\n",
      "*   **Scalability of Hardware Production & Installation Costs:** While the initial traction with 50 pods is positive, scaling hardware production (60% of the raise for this) from a small pilot to thousands of units introduces complex supply chain risks, quality control issues, and increased manufacturing costs. Furthermore, the installation process for each pod, especially if it requires modifications to existing power infrastructure at each parking meter site, could be highly labor-intensive and expensive. While the 98% uptime is excellent, maintaining this rate across a much larger, distributed network, particularly in urban environments prone to wear-and-tear or vandalism, could lead to significant ongoing maintenance and operational expenses, impacting unit economics at scale.\n",
      "\n",
      "### 2. Three Follow-up Questions for Due Diligence\n",
      "\n",
      "*   **Unit Economics & Usage Metrics:** The $200K MRR from 50 pods implies a very high average revenue of $4,000 per pod per month. Could you elaborate on the specific usage metrics driving this revenue? What is the average number of charging sessions per pod per day, the average session duration, and the average price charged per kWh or session? This information is crucial to understand the actual demand, utilization rates, and the sustainability of this impressive MRR at scale.\n",
      "*   **Regulatory and Grid Infrastructure Challenges for Expansion:** Given the unique integration with parking meters, what were the specific regulatory, permitting, and grid infrastructure challenges encountered and overcome during the Boston deployment? What is your strategy and projected timeline for navigating these varying challenges in other major US cities, and what is your current understanding of the revenue-sharing model required by municipalities or parking operators in your target expansion markets?\n",
      "*   **Charging Speed & Power Delivery:** The problem statement highlights \"slow\" charging. What is the actual charging speed (e.g., Level 2, DC Fast Charging) of your urban charging pods? How do they draw sufficient power, especially for faster charging, from existing parking meter infrastructure, which typically has limited power supply? Are there specific grid upgrades or additional power connections required per pod, and if so, what is the estimated cost and complexity associated with those requirements?\n"
     ]
    }
   ],
   "source": [
    "analyzer = PitchGPT()\n",
    "result = analyzer.analyze_pitch(pitch)\n",
    "print(result)"
   ]
  }
 ],
 "metadata": {
  "kernelspec": {
   "display_name": ".venv",
   "language": "python",
   "name": "python3"
  },
  "language_info": {
   "codemirror_mode": {
    "name": "ipython",
    "version": 3
   },
   "file_extension": ".py",
   "mimetype": "text/x-python",
   "name": "python",
   "nbconvert_exporter": "python",
   "pygments_lexer": "ipython3",
   "version": "3.12.2"
  }
 },
 "nbformat": 4,
 "nbformat_minor": 5
}
